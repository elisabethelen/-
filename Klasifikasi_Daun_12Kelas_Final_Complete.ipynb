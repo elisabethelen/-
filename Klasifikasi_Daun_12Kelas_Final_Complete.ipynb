{
  "cells": [
    {
      "cell_type": "markdown",
      "metadata": {
        "id": "view-in-github",
        "colab_type": "text"
      },
      "source": [
        "<a href=\"https://colab.research.google.com/github/elisabethelen/-/blob/main/Klasifikasi_Daun_12Kelas_Final_Complete.ipynb\" target=\"_parent\"><img src=\"https://colab.research.google.com/assets/colab-badge.svg\" alt=\"Open In Colab\"/></a>"
      ]
    },
    {
      "cell_type": "markdown",
      "metadata": {
        "id": "grj9jRXIvRvD"
      },
      "source": [
        "# 🌿 Klasifikasi Daun Lokal 12 Kelas\n",
        "Menggunakan CNN, MobileNetV2, dan ResNet50 + Evaluasi & Penyimpanan Otomatis"
      ]
    },
    {
      "cell_type": "code",
      "metadata": {
        "colab": {
          "base_uri": "https://localhost:8080/"
        },
        "id": "S-amsic4vRvH",
        "outputId": "5863130f-35cb-45ae-e2b0-f1ede71866f6"
      },
      "outputs": [
        {
          "output_type": "stream",
          "name": "stdout",
          "text": [
            "Mounted at /content/drive\n"
          ]
        }
      ],
      "source": [
        "from google.colab import drive\n",
        "drive.mount('/content/drive')"
      ],
      "execution_count": 1
    },
    {
      "cell_type": "code",
      "source": [
        "!ls '/content/drive/MyDrive'"
      ],
      "metadata": {
        "colab": {
          "base_uri": "https://localhost:8080/"
        },
        "id": "chcUV402otZK",
        "outputId": "f3f5e7d8-7e0a-4758-9b0e-3adae4e394bf"
      },
      "execution_count": 9,
      "outputs": [
        {
          "output_type": "stream",
          "name": "stdout",
          "text": [
            " 1000288452-removebg.png\n",
            " 17443580268553621563450361229879.jpg\n",
            " 1746778423025276336827452020397.jpg\n",
            "'202255202026_Elisabeth Serlina Elensia Bupu-1742919657407.pdf'\n",
            " 202255202026_Elisabeth_Serlina_Elensia_Bupu-1742921237736.pdf\n",
            "'202255202026_Elisabeth Serlina Elensia Bupu (1).pdf'\n",
            "'202255202026_Elisabeth Serlina Elensia Bupu (2).pdf'\n",
            "'202255202026_Elisabeth Serlina Elensia Bupu (3).pdf'\n",
            "'202255202026_Elisabeth Serlina Elensia Bupu (4).pdf'\n",
            " 202255202026_ElisabethSerlinaElensiaBupu_ImplementasiAlgoritmaVigenereCipherMenggunakanBahasaPemrogramanPythonUntukEnkripsiPesan.pdf\n",
            "'202255202026_Elisabeth Serlina Elensia Bupu.pdf'\n",
            " 202255202026-Tugas1.pdf\n",
            " 202255202026_tugas3-1.pdf\n",
            " 202255202026_tugas4\n",
            " 202255202026-Tugas5.pdf\n",
            " 7e93e40c-7675-4add-becf-76bdbe7c7dc0.jpg\n",
            "'BASIS DATA II - 4B'\n",
            " Classroom\n",
            "'Colab Notebooks'\n",
            " confusion_matrix.png\n",
            " dataset\n",
            " dataset1\n",
            "'DatasetFloraGroup '\n",
            " DatasetFloraSplit\n",
            " datasetpiring\n",
            " deep_sort\n",
            " desktop-wallpaper-infinite-hearts-aesthetic-brown-poster-by-klaksy-┃-limited-fire-brown-hearts-aesthetic.jpg\n",
            "'Draft Pendataan Mata Kuliah Mahasiswa PMM Inbound Mandiri Semester Gasa-1.docx'\n",
            " elisabethserlinaelensiabupu\n",
            "'Elisabeth Serlina Elensia Bupu_202255202026_29042025_TugasVideo.pdf'\n",
            " ElisabethSerlinaElensiaBupu_202255202026_29042025_TugasVideo.pdf\n",
            "'Elisabeth Serlina Elensia Bupu_202255202026.pdf'\n",
            "'ELISABETH SERLINA ELENSIA BUPU_SUKU NGADA'\n",
            "'Elisabeth Serlina Elensia Bupu_Universitas Muhammadiyah Sorong_PKM-PM (1)-1.pdf'\n",
            "'Elisabeth Serlina Elensia Bupu_Universitas Muhammadiyah Sorong_PKM-PM.pdf'\n",
            " erd_uts_basisdata_2.drawio\n",
            "'Foto Formal Mahasiswa PMM'\n",
            " Hasil_PMMandiri.gdoc\n",
            " IMG_20240116_122231-removebg.png\n",
            " IMG20240506020539.jpg\n",
            " IMG20240525145910.jpg\n",
            " IMG20240605145153.jpg\n",
            " IMG20240608152056.jpg\n",
            " IMG20240622084437.jpg\n",
            " IMG20240622151941.jpg\n",
            " IMG20240628092354.jpg\n",
            " IMG20240629152132.jpg\n",
            " IMG_20240731_195959.jpg\n",
            " IMG_20240823_133926.jpg\n",
            " IMG20250314165034.jpg\n",
            " IMG20250314165143.jpg\n",
            " IMG-20250411-WA0022.jpeg\n",
            " IMG_20250429_202816.jpg\n",
            " IMG-20250509-WA0019.jpg\n",
            " IMG20250523163025.jpg\n",
            " IMG20250523163109.jpg\n",
            "'IMG20250602184733 (1).jpg'\n",
            " IMG20250602184733.jpg\n",
            " IMG20250602190814.jpg\n",
            " IMG20250602191447.jpg\n",
            "'IMG20250602194534 (1).jpg'\n",
            " IMG20250602194534.jpg\n",
            "'IMG20250602200523 (1).jpg'\n",
            " IMG20250602200523.jpg\n",
            " IMG20250602203807.jpg\n",
            "'IMG20250602212742 (1).jpg'\n",
            " IMG20250602212742.jpg\n",
            "'IMG20250602213538 (1).jpg'\n",
            " IMG20250602213538.jpg\n",
            " IMG20250602214431.jpg\n",
            "'IMG20250602225145 (1).jpg'\n",
            " IMG20250602225145.jpg\n",
            " IMG20250602230733.jpg\n",
            " IMG20250602232050.jpg\n",
            " IMG20250613164528.jpg\n",
            " IMG20250613164856.jpg\n",
            " IMG20250620162657.jpg\n",
            " IMG20250620162716.jpg\n",
            " IMG20250704163754.jpg\n",
            " IMG20250704163816.jpg\n",
            "'Informasi Kontak (1).gform'\n",
            "'Informasi Kontak.gform'\n",
            "'Irma Emas'\n",
            " kaggle\n",
            " KecerdasanBuatan\n",
            "'KELOMPOK2-LAPORAN MANAJEMEN PROYEK(UTS).pdf'\n",
            "'Kelompok 5_Analisa dan Pemodelan Spasial (1).pdf'\n",
            "'Kelompok 5_Analisa dan Pemodelan Spasial.pdf'\n",
            "'Kelompok 6_JARKOM'\n",
            " Kriptografi_Kelompok7.docx\n",
            " Kriptografi_Kelompok7.pptx\n",
            "'KTP [Elisabeth Serlina Elensia Bupu][202255202026].jpg'\n",
            "'Laporan Analisa dan Pemodelan Spasial_Kelompok 5.pdf'\n",
            "'LAPORAN APS Kelompok 5.pdf'\n",
            "'Laporan Manajemen Proyek_Kelompok 2-1.pdf'\n",
            " LaporanPraktikum_BasisDataII_ElisabethSElensiaBupu-3.pdf\n",
            "'Laporan Project [Elisabeth Serlina Elensia Bupu] [202255202026] (1).pdf'\n",
            "'Laporan Project [Elisabeth Serlina Elensia Bupu] [202255202026].pdf'\n",
            "'LEMBAR SAMPUL TUGAS.gdoc'\n",
            " model184.pth\n",
            " models\n",
            "'Pendataan Mata Kuliah Mahasiswa PMM Inbound Mandiri Semester Gasa.docx'\n",
            "'Pengumpulan Tugas Kelompok IMK'\n",
            "'Pengumpulan Video'\n",
            "'Pengumpulan video tes wawancara '\n",
            "'PMM UAD'\n",
            "'PPT [Elisabeth Serlina Elensia Bupu] [202255202026].pptx'\n",
            " result\n",
            " result.mp4\n",
            " resultvideo.mp4\n",
            " RSVP.gform\n",
            " screencapture-chatgpt-c-683163d2-e378-8009-b27d-dcac8ee4e6a2-2025-05-24-14_30_09.pdf\n",
            " Screenshot_2024-05-13-13-38-11-61_2ef548bf47261a0f379d52645eb41568.jpg\n",
            "'Screenshot_2024-05-29-20-14-52-99_2ef548bf47261a0f379d52645eb41568 (1).jpg'\n",
            " Screenshot_2024-05-29-20-14-52-99_2ef548bf47261a0f379d52645eb41568.jpg\n",
            " Screenshot_2024-06-10-17-18-16-05_1c337646f29875672b5a61192b9010f9.jpg\n",
            " Screenshot_2024-06-10-17-18-44-02_6012fa4d4ddec268fc5c7112cbb265e7.jpg\n",
            " Screenshot_2024-06-10-17-21-30-17_f69139cffc4d135a71392e13634f144a.jpg\n",
            " Screenshot_2024-06-10-17-22-06-01_a23b203fd3aafc6dcb84e438dda678b6.jpg\n",
            " Screenshot_2024-06-27-08-25-45-88_2ef548bf47261a0f379d52645eb41568.jpg\n",
            " Screenshot_2024-07-31-19-26-59-07_c37d74246d9c81aa0bb824b57eaf7062.jpg\n",
            " Screenshot_2024-07-31-19-28-01-14_c37d74246d9c81aa0bb824b57eaf7062.jpg\n",
            " Screenshot_2025-01-14-21-12-49-87_2ef548bf47261a0f379d52645eb41568.jpg\n",
            " Screenshot_2025-04-29-20-13-27-89_2ef548bf47261a0f379d52645eb41568.jpg\n",
            "'SK HIMATIF 2024-2025.pdf'\n",
            " T4DL\n",
            " T5DeepLearning\n",
            " testingvideo.avi\n",
            "'Transkip Nilai [Elisabeth Serlina Elensia Bupu] [202255202026] (1).pdf'\n",
            "'Transkip Nilai [Elisabeth Serlina Elensia Bupu] [202255202026].pdf'\n",
            " Tugas4_202255202026-1.pdf\n",
            " Tugas4DeepLearning\n",
            " Tugas5-202255202026.pdf\n",
            " Tugas_M03_202255202026_SP.pdf\n",
            " UAS\n",
            " UASKecerdasanBuatan\n",
            "'UASKecerdasanBuatan (1)'\n",
            "'Untitled Diagram.drawio'\n",
            "'UTS Metode Penelitian '\n",
            " val_batch0_labels.jpg\n",
            " val_batch0_pred.jpg\n",
            " val_batch1_labels.jpg\n",
            " val_batch1_pred.jpg\n",
            " val_batch2_labels.jpg\n",
            " val_batch2_pred.jpg\n"
          ]
        }
      ]
    },
    {
      "cell_type": "code",
      "source": [
        "dataset_path = '/content/drive/MyDrive/DatasetFloraSplit'"
      ],
      "metadata": {
        "id": "qrtlRRzov283"
      },
      "execution_count": 13,
      "outputs": []
    },
    {
      "cell_type": "code",
      "metadata": {
        "id": "ykGhicljvRvI"
      },
      "outputs": [],
      "source": [
        "import os\n",
        "import numpy as np\n",
        "import matplotlib.pyplot as plt\n",
        "import seaborn as sns\n",
        "import tensorflow as tf\n",
        "from tensorflow.keras.preprocessing.image import ImageDataGenerator\n",
        "from tensorflow.keras.applications import MobileNetV2, ResNet50\n",
        "from tensorflow.keras.models import Sequential, Model, load_model\n",
        "from tensorflow.keras.layers import Dense, Dropout, Flatten, GlobalAveragePooling2D, Conv2D, MaxPooling2D\n",
        "from tensorflow.keras.optimizers import Adam\n",
        "from tensorflow.keras.callbacks import EarlyStopping, ModelCheckpoint\n",
        "from sklearn.metrics import classification_report, confusion_matrix\n",
        "import cv2"
      ],
      "execution_count": 3
    },
    {
      "cell_type": "markdown",
      "metadata": {
        "id": "dV-8KPEmvRvJ"
      },
      "source": [
        "## 📂 Load Dataset"
      ]
    },
    {
      "cell_type": "code",
      "metadata": {
        "colab": {
          "base_uri": "https://localhost:8080/"
        },
        "id": "enUkcSJ_vRvJ",
        "outputId": "a7a02685-7a86-46f2-a63e-6d327e06b952"
      },
      "outputs": [
        {
          "output_type": "stream",
          "name": "stdout",
          "text": [
            "Found 1575 images belonging to 2 classes.\n",
            "Found 1573 images belonging to 2 classes.\n"
          ]
        }
      ],
      "source": [
        "# 1. Path ke dataset (ubah sesuai lokasi dataset di Google Drive kamu)\n",
        "dataset_path = '/content/drive/MyDrive/DatasetFloraSplit'\n",
        "\n",
        "# 1. Path ke dataset (ubah sesuai lokasi dataset di Google Drive kamu)\n",
        "dataset_path = '/content/drive/MyDrive/DatasetFloraSplit'\n",
        "\n",
        "# 2. Ukuran gambar & batch size\n",
        "img_size = (224, 224)\n",
        "batch_size = 32\n",
        "\n",
        "# 3. ImageDataGenerator dengan split 50% untuk validasi\n",
        "from tensorflow.keras.preprocessing.image import ImageDataGenerator\n",
        "\n",
        "datagen = ImageDataGenerator(\n",
        "    rescale=1./255,\n",
        "    validation_split=0.5\n",
        ")\n",
        "\n",
        "# 4. Generator untuk training (50%)\n",
        "train_gen = datagen.flow_from_directory(\n",
        "    dataset_path,\n",
        "    target_size=img_size,\n",
        "    batch_size=batch_size,\n",
        "    class_mode='categorical',\n",
        "    subset='training',\n",
        "    shuffle=True\n",
        ")\n",
        "\n",
        "# 5. Generator untuk validasi (50%)\n",
        "val_gen = datagen.flow_from_directory(\n",
        "    dataset_path,\n",
        "    target_size=img_size,\n",
        "    batch_size=batch_size,\n",
        "    class_mode='categorical',\n",
        "    subset='validation',\n",
        "    shuffle=False\n",
        ")\n",
        "\n",
        "# 6. Ambil jumlah kelas dari generator\n",
        "num_classes = train_gen.num_classes"
      ],
      "execution_count": 18
    },
    {
      "cell_type": "markdown",
      "metadata": {
        "id": "_yS38LUIvRvK"
      },
      "source": [
        "## 🧠 ResNet50 + Saving Otomatis"
      ]
    },
    {
      "cell_type": "code",
      "metadata": {
        "id": "j2GHw-VyvRvL",
        "colab": {
          "base_uri": "https://localhost:8080/"
        },
        "outputId": "0e79758d-1769-4d76-c0ea-7cfdd2cad41e"
      },
      "outputs": [
        {
          "metadata": {
            "tags": null
          },
          "name": "stderr",
          "output_type": "stream",
          "text": [
            "/usr/local/lib/python3.11/dist-packages/keras/src/trainers/data_adapters/py_dataset_adapter.py:121: UserWarning: Your `PyDataset` class should call `super().__init__(**kwargs)` in its constructor. `**kwargs` can include `workers`, `use_multiprocessing`, `max_queue_size`. Do not pass these arguments to `fit()`, as they will be ignored.\n",
            "  self._warn_if_super_not_called()\n"
          ]
        },
        {
          "metadata": {
            "tags": null
          },
          "name": "stdout",
          "output_type": "stream",
          "text": [
            "Epoch 1/50\n",
            "\u001b[1m50/50\u001b[0m \u001b[32m━━━━━━━━━━━━━━━━━━━━\u001b[0m\u001b[37m\u001b[0m \u001b[1m0s\u001b[0m 15s/step - accuracy: 0.4672 - loss: 0.9558 "
          ]
        },
        {
          "metadata": {
            "tags": null
          },
          "name": "stderr",
          "output_type": "stream",
          "text": [
            "/usr/local/lib/python3.11/dist-packages/keras/src/trainers/data_adapters/py_dataset_adapter.py:121: UserWarning: Your `PyDataset` class should call `super().__init__(**kwargs)` in its constructor. `**kwargs` can include `workers`, `use_multiprocessing`, `max_queue_size`. Do not pass these arguments to `fit()`, as they will be ignored.\n",
            "  self._warn_if_super_not_called()\n"
          ]
        },
        {
          "metadata": {
            "tags": null
          },
          "name": "stdout",
          "output_type": "stream",
          "text": [
            "\n",
            "Epoch 1: val_loss improved from inf to 0.68502, saving model to /content/drive/MyDrive/models/resnet50_daun_12kelas.h5\n"
          ]
        },
        {
          "metadata": {
            "tags": null
          },
          "name": "stderr",
          "output_type": "stream",
          "text": [
            "WARNING:absl:You are saving your model as an HDF5 file via `model.save()` or `keras.saving.save_model(model)`. This file format is considered legacy. We recommend using instead the native Keras format, e.g. `model.save('my_model.keras')` or `keras.saving.save_model(model, 'my_model.keras')`. \n"
          ]
        },
        {
          "metadata": {
            "tags": null
          },
          "name": "stdout",
          "output_type": "stream",
          "text": [
            "\u001b[1m50/50\u001b[0m \u001b[32m━━━━━━━━━━━━━━━━━━━━\u001b[0m\u001b[37m\u001b[0m \u001b[1m1546s\u001b[0m 31s/step - accuracy: 0.4676 - loss: 0.9546 - val_accuracy: 0.5677 - val_loss: 0.6850\n",
            "Epoch 2/50\n",
            "\u001b[1m50/50\u001b[0m \u001b[32m━━━━━━━━━━━━━━━━━━━━\u001b[0m\u001b[37m\u001b[0m \u001b[1m0s\u001b[0m 9s/step - accuracy: 0.4849 - loss: 0.8772\n",
            "Epoch 2: val_loss improved from 0.68502 to 0.68396, saving model to /content/drive/MyDrive/models/resnet50_daun_12kelas.h5\n"
          ]
        },
        {
          "metadata": {
            "tags": null
          },
          "name": "stderr",
          "output_type": "stream",
          "text": [
            "WARNING:absl:You are saving your model as an HDF5 file via `model.save()` or `keras.saving.save_model(model)`. This file format is considered legacy. We recommend using instead the native Keras format, e.g. `model.save('my_model.keras')` or `keras.saving.save_model(model, 'my_model.keras')`. \n"
          ]
        },
        {
          "metadata": {
            "tags": null
          },
          "name": "stdout",
          "output_type": "stream",
          "text": [
            "\u001b[1m50/50\u001b[0m \u001b[32m━━━━━━━━━━━━━━━━━━━━\u001b[0m\u001b[37m\u001b[0m \u001b[1m922s\u001b[0m 18s/step - accuracy: 0.4850 - loss: 0.8770 - val_accuracy: 0.5709 - val_loss: 0.6840\n",
            "Epoch 3/50\n",
            "\u001b[1m50/50\u001b[0m \u001b[32m━━━━━━━━━━━━━━━━━━━━\u001b[0m\u001b[37m\u001b[0m \u001b[1m0s\u001b[0m 9s/step - accuracy: 0.5173 - loss: 0.8116\n",
            "Epoch 3: val_loss improved from 0.68396 to 0.68372, saving model to /content/drive/MyDrive/models/resnet50_daun_12kelas.h5\n"
          ]
        },
        {
          "metadata": {
            "tags": null
          },
          "name": "stderr",
          "output_type": "stream",
          "text": [
            "WARNING:absl:You are saving your model as an HDF5 file via `model.save()` or `keras.saving.save_model(model)`. This file format is considered legacy. We recommend using instead the native Keras format, e.g. `model.save('my_model.keras')` or `keras.saving.save_model(model, 'my_model.keras')`. \n"
          ]
        },
        {
          "metadata": {
            "tags": null
          },
          "name": "stdout",
          "output_type": "stream",
          "text": [
            "\u001b[1m50/50\u001b[0m \u001b[32m━━━━━━━━━━━━━━━━━━━━\u001b[0m\u001b[37m\u001b[0m \u001b[1m878s\u001b[0m 18s/step - accuracy: 0.5172 - loss: 0.8116 - val_accuracy: 0.5709 - val_loss: 0.6837\n",
            "Epoch 4/50\n",
            "\u001b[1m50/50\u001b[0m \u001b[32m━━━━━━━━━━━━━━━━━━━━\u001b[0m\u001b[37m\u001b[0m \u001b[1m0s\u001b[0m 9s/step - accuracy: 0.5022 - loss: 0.8017\n",
            "Epoch 4: val_loss improved from 0.68372 to 0.68347, saving model to /content/drive/MyDrive/models/resnet50_daun_12kelas.h5\n"
          ]
        },
        {
          "metadata": {
            "tags": null
          },
          "name": "stderr",
          "output_type": "stream",
          "text": [
            "WARNING:absl:You are saving your model as an HDF5 file via `model.save()` or `keras.saving.save_model(model)`. This file format is considered legacy. We recommend using instead the native Keras format, e.g. `model.save('my_model.keras')` or `keras.saving.save_model(model, 'my_model.keras')`. \n"
          ]
        },
        {
          "metadata": {
            "tags": null
          },
          "name": "stdout",
          "output_type": "stream",
          "text": [
            "\u001b[1m50/50\u001b[0m \u001b[32m━━━━━━━━━━━━━━━━━━━━\u001b[0m\u001b[37m\u001b[0m \u001b[1m997s\u001b[0m 19s/step - accuracy: 0.5024 - loss: 0.8017 - val_accuracy: 0.5715 - val_loss: 0.6835\n",
            "Epoch 5/50\n",
            "\u001b[1m50/50\u001b[0m \u001b[32m━━━━━━━━━━━━━━━━━━━━\u001b[0m\u001b[37m\u001b[0m \u001b[1m0s\u001b[0m 9s/step - accuracy: 0.5327 - loss: 0.7734\n",
            "Epoch 5: val_loss improved from 0.68347 to 0.68346, saving model to /content/drive/MyDrive/models/resnet50_daun_12kelas.h5\n"
          ]
        },
        {
          "metadata": {
            "tags": null
          },
          "name": "stderr",
          "output_type": "stream",
          "text": [
            "WARNING:absl:You are saving your model as an HDF5 file via `model.save()` or `keras.saving.save_model(model)`. This file format is considered legacy. We recommend using instead the native Keras format, e.g. `model.save('my_model.keras')` or `keras.saving.save_model(model, 'my_model.keras')`. \n"
          ]
        },
        {
          "metadata": {
            "tags": null
          },
          "name": "stdout",
          "output_type": "stream",
          "text": [
            "\u001b[1m50/50\u001b[0m \u001b[32m━━━━━━━━━━━━━━━━━━━━\u001b[0m\u001b[37m\u001b[0m \u001b[1m914s\u001b[0m 18s/step - accuracy: 0.5326 - loss: 0.7734 - val_accuracy: 0.5715 - val_loss: 0.6835\n",
            "Epoch 6/50\n",
            "\u001b[1m50/50\u001b[0m \u001b[32m━━━━━━━━━━━━━━━━━━━━\u001b[0m\u001b[37m\u001b[0m \u001b[1m0s\u001b[0m 9s/step - accuracy: 0.5103 - loss: 0.7602\n",
            "Epoch 6: val_loss improved from 0.68346 to 0.68312, saving model to /content/drive/MyDrive/models/resnet50_daun_12kelas.h5\n"
          ]
        },
        {
          "metadata": {
            "tags": null
          },
          "name": "stderr",
          "output_type": "stream",
          "text": [
            "WARNING:absl:You are saving your model as an HDF5 file via `model.save()` or `keras.saving.save_model(model)`. This file format is considered legacy. We recommend using instead the native Keras format, e.g. `model.save('my_model.keras')` or `keras.saving.save_model(model, 'my_model.keras')`. \n"
          ]
        },
        {
          "metadata": {
            "tags": null
          },
          "name": "stdout",
          "output_type": "stream",
          "text": [
            "\u001b[1m50/50\u001b[0m \u001b[32m━━━━━━━━━━━━━━━━━━━━\u001b[0m\u001b[37m\u001b[0m \u001b[1m933s\u001b[0m 18s/step - accuracy: 0.5105 - loss: 0.7601 - val_accuracy: 0.5722 - val_loss: 0.6831\n",
            "Epoch 7/50\n",
            "\u001b[1m50/50\u001b[0m \u001b[32m━━━━━━━━━━━━━━━━━━━━\u001b[0m\u001b[37m\u001b[0m \u001b[1m0s\u001b[0m 9s/step - accuracy: 0.4929 - loss: 0.7666\n",
            "Epoch 7: val_loss did not improve from 0.68312\n",
            "\u001b[1m50/50\u001b[0m \u001b[32m━━━━━━━━━━━━━━━━━━━━\u001b[0m\u001b[37m\u001b[0m \u001b[1m949s\u001b[0m 19s/step - accuracy: 0.4931 - loss: 0.7665 - val_accuracy: 0.5722 - val_loss: 0.6841\n",
            "Epoch 8/50\n",
            "\u001b[1m50/50\u001b[0m \u001b[32m━━━━━━━━━━━━━━━━━━━━\u001b[0m\u001b[37m\u001b[0m \u001b[1m0s\u001b[0m 9s/step - accuracy: 0.5268 - loss: 0.7625\n",
            "Epoch 8: val_loss did not improve from 0.68312\n",
            "\u001b[1m50/50\u001b[0m \u001b[32m━━━━━━━━━━━━━━━━━━━━\u001b[0m\u001b[37m\u001b[0m \u001b[1m983s\u001b[0m 19s/step - accuracy: 0.5267 - loss: 0.7623 - val_accuracy: 0.5722 - val_loss: 0.6835\n",
            "Epoch 9/50\n",
            "\u001b[1m50/50\u001b[0m \u001b[32m━━━━━━━━━━━━━━━━━━━━\u001b[0m\u001b[37m\u001b[0m \u001b[1m0s\u001b[0m 9s/step - accuracy: 0.4877 - loss: 0.7491\n",
            "Epoch 9: val_loss did not improve from 0.68312\n",
            "\u001b[1m50/50\u001b[0m \u001b[32m━━━━━━━━━━━━━━━━━━━━\u001b[0m\u001b[37m\u001b[0m \u001b[1m890s\u001b[0m 18s/step - accuracy: 0.4881 - loss: 0.7490 - val_accuracy: 0.5722 - val_loss: 0.6835\n",
            "Epoch 10/50\n",
            "\u001b[1m50/50\u001b[0m \u001b[32m━━━━━━━━━━━━━━━━━━━━\u001b[0m\u001b[37m\u001b[0m \u001b[1m0s\u001b[0m 9s/step - accuracy: 0.5399 - loss: 0.7201\n",
            "Epoch 10: val_loss improved from 0.68312 to 0.68288, saving model to /content/drive/MyDrive/models/resnet50_daun_12kelas.h5\n"
          ]
        },
        {
          "metadata": {
            "tags": null
          },
          "name": "stderr",
          "output_type": "stream",
          "text": [
            "WARNING:absl:You are saving your model as an HDF5 file via `model.save()` or `keras.saving.save_model(model)`. This file format is considered legacy. We recommend using instead the native Keras format, e.g. `model.save('my_model.keras')` or `keras.saving.save_model(model, 'my_model.keras')`. \n"
          ]
        },
        {
          "metadata": {
            "tags": null
          },
          "name": "stdout",
          "output_type": "stream",
          "text": [
            "\u001b[1m50/50\u001b[0m \u001b[32m━━━━━━━━━━━━━━━━━━━━\u001b[0m\u001b[37m\u001b[0m \u001b[1m890s\u001b[0m 18s/step - accuracy: 0.5397 - loss: 0.7203 - val_accuracy: 0.5722 - val_loss: 0.6829\n",
            "Epoch 11/50\n",
            "\u001b[1m50/50\u001b[0m \u001b[32m━━━━━━━━━━━━━━━━━━━━\u001b[0m\u001b[37m\u001b[0m \u001b[1m0s\u001b[0m 9s/step - accuracy: 0.5142 - loss: 0.7332\n",
            "Epoch 11: val_loss did not improve from 0.68288\n",
            "\u001b[1m50/50\u001b[0m \u001b[32m━━━━━━━━━━━━━━━━━━━━\u001b[0m\u001b[37m\u001b[0m \u001b[1m983s\u001b[0m 19s/step - accuracy: 0.5146 - loss: 0.7329 - val_accuracy: 0.5722 - val_loss: 0.6830\n",
            "Epoch 12/50\n",
            "\u001b[1m50/50\u001b[0m \u001b[32m━━━━━━━━━━━━━━━━━━━━\u001b[0m\u001b[37m\u001b[0m \u001b[1m0s\u001b[0m 10s/step - accuracy: 0.5380 - loss: 0.7160\n",
            "Epoch 12: val_loss improved from 0.68288 to 0.68283, saving model to /content/drive/MyDrive/models/resnet50_daun_12kelas.h5\n"
          ]
        },
        {
          "metadata": {
            "tags": null
          },
          "name": "stderr",
          "output_type": "stream",
          "text": [
            "WARNING:absl:You are saving your model as an HDF5 file via `model.save()` or `keras.saving.save_model(model)`. This file format is considered legacy. We recommend using instead the native Keras format, e.g. `model.save('my_model.keras')` or `keras.saving.save_model(model, 'my_model.keras')`. \n"
          ]
        },
        {
          "output_type": "stream",
          "name": "stdout",
          "text": [
            "\u001b[1m50/50\u001b[0m \u001b[32m━━━━━━━━━━━━━━━━━━━━\u001b[0m\u001b[37m\u001b[0m \u001b[1m936s\u001b[0m 19s/step - accuracy: 0.5378 - loss: 0.7160 - val_accuracy: 0.5722 - val_loss: 0.6828\n",
            "Epoch 13/50\n",
            "\u001b[1m50/50\u001b[0m \u001b[32m━━━━━━━━━━━━━━━━━━━━\u001b[0m\u001b[37m\u001b[0m \u001b[1m0s\u001b[0m 9s/step - accuracy: 0.5220 - loss: 0.7252\n",
            "Epoch 13: val_loss did not improve from 0.68283\n",
            "\u001b[1m50/50\u001b[0m \u001b[32m━━━━━━━━━━━━━━━━━━━━\u001b[0m\u001b[37m\u001b[0m \u001b[1m936s\u001b[0m 18s/step - accuracy: 0.5225 - loss: 0.7250 - val_accuracy: 0.5722 - val_loss: 0.6829\n",
            "Epoch 14/50\n",
            "\u001b[1m50/50\u001b[0m \u001b[32m━━━━━━━━━━━━━━━━━━━━\u001b[0m\u001b[37m\u001b[0m \u001b[1m0s\u001b[0m 9s/step - accuracy: 0.5318 - loss: 0.7026\n",
            "Epoch 14: val_loss did not improve from 0.68283\n",
            "\u001b[1m50/50\u001b[0m \u001b[32m━━━━━━━━━━━━━━━━━━━━\u001b[0m\u001b[37m\u001b[0m \u001b[1m947s\u001b[0m 19s/step - accuracy: 0.5314 - loss: 0.7028 - val_accuracy: 0.5722 - val_loss: 0.6833\n",
            "Epoch 15/50\n",
            "\u001b[1m50/50\u001b[0m \u001b[32m━━━━━━━━━━━━━━━━━━━━\u001b[0m\u001b[37m\u001b[0m \u001b[1m0s\u001b[0m 9s/step - accuracy: 0.5017 - loss: 0.7240\n",
            "Epoch 15: val_loss did not improve from 0.68283\n",
            "\u001b[1m50/50\u001b[0m \u001b[32m━━━━━━━━━━━━━━━━━━━━\u001b[0m\u001b[37m\u001b[0m \u001b[1m880s\u001b[0m 18s/step - accuracy: 0.5020 - loss: 0.7238 - val_accuracy: 0.5722 - val_loss: 0.6830\n",
            "Epoch 16/50\n",
            "\u001b[1m50/50\u001b[0m \u001b[32m━━━━━━━━━━━━━━━━━━━━\u001b[0m\u001b[37m\u001b[0m \u001b[1m0s\u001b[0m 9s/step - accuracy: 0.5414 - loss: 0.7081\n",
            "Epoch 16: val_loss did not improve from 0.68283\n",
            "\u001b[1m50/50\u001b[0m \u001b[32m━━━━━━━━━━━━━━━━━━━━\u001b[0m\u001b[37m\u001b[0m \u001b[1m942s\u001b[0m 19s/step - accuracy: 0.5415 - loss: 0.7081 - val_accuracy: 0.5722 - val_loss: 0.6839\n",
            "Epoch 17/50\n",
            "\u001b[1m50/50\u001b[0m \u001b[32m━━━━━━━━━━━━━━━━━━━━\u001b[0m\u001b[37m\u001b[0m \u001b[1m0s\u001b[0m 9s/step - accuracy: 0.5288 - loss: 0.7124\n",
            "Epoch 17: val_loss did not improve from 0.68283\n",
            "\u001b[1m50/50\u001b[0m \u001b[32m━━━━━━━━━━━━━━━━━━━━\u001b[0m\u001b[37m\u001b[0m \u001b[1m896s\u001b[0m 18s/step - accuracy: 0.5288 - loss: 0.7123 - val_accuracy: 0.5722 - val_loss: 0.6838\n",
            "Epoch 17: early stopping\n",
            "Restoring model weights from the end of the best epoch: 12.\n"
          ]
        }
      ],
      "source": [
        "resnet_base = ResNet50(weights='imagenet', include_top=False, input_shape=(224,224,3))\n",
        "resnet_base.trainable = False\n",
        "\n",
        "resnet_model = Sequential([\n",
        "    resnet_base,\n",
        "    GlobalAveragePooling2D(),\n",
        "    Dropout(0.5),\n",
        "    Dense(num_classes, activation='softmax')])\n",
        "\n",
        "resnet_model.compile(optimizer=Adam(0.0001), loss='categorical_crossentropy', metrics=['accuracy'])\n",
        "\n",
        "resnet_path = '/content/drive/MyDrive/models/resnet50_daun_12kelas.h5'\n",
        "early_stop = EarlyStopping(monitor='val_loss', patience=5, restore_best_weights=True, verbose=1)\n",
        "checkpoint = ModelCheckpoint(resnet_path, monitor='val_loss', save_best_only=True, verbose=1)\n",
        "\n",
        "resnet_history = resnet_model.fit(train_gen, validation_data=val_gen, epochs=50, callbacks=[early_stop, checkpoint])"
      ],
      "execution_count": 19
    },
    {
      "cell_type": "markdown",
      "source": [
        "**Penjelasan**\n",
        "\n",
        "Model berhenti otomatis di epoch 17 karena tidak ada peningkatan lagi sejak epoch 12, dan hasil terbaik ada di epoch 12, jadi model dikembalikan ke kondisi terbaik itu\n"
      ],
      "metadata": {
        "id": "ReQCPyo3xz4H"
      }
    },
    {
      "cell_type": "markdown",
      "metadata": {
        "id": "fgkzLPnysloO"
      },
      "source": [
        "## 🧠 Evaluasi Model ResNet50\n"
      ]
    },
    {
      "cell_type": "code",
      "source": [
        "import tensorflow as tf\n",
        "import numpy as np\n",
        "import matplotlib.pyplot as plt\n",
        "from sklearn.metrics import classification_report, confusion_matrix, ConfusionMatrixDisplay\n",
        "import pickle\n",
        "\n",
        "# 1️⃣ Load model terbaik dari file .h5\n",
        "resnet_path = '/content/drive/MyDrive/models/resnet50_daun_12kelas.h5'\n",
        "best_model = tf.keras.models.load_model(resnet_path)\n",
        "\n",
        "# 2️⃣ Evaluasi langsung di validation/test set\n",
        "loss, acc = best_model.evaluate(val_gen, verbose=0)\n",
        "print(f\"Validation Loss : {loss:.4f}\")\n",
        "print(f\"Validation Accuracy : {acc:.4f}\")\n",
        "\n",
        "# 3️⃣ Prediksi label\n",
        "y_true = val_gen.classes\n",
        "y_pred_probs = best_model.predict(val_gen, verbose=0)\n",
        "y_pred = np.argmax(y_pred_probs, axis=1)\n",
        "\n",
        "# 4️⃣ Classification Report\n",
        "class_names = list(val_gen.class_indices.keys())\n",
        "print(\"Classification Report:\")\n",
        "print(classification_report(y_true, y_pred, target_names=class_names))\n",
        "\n",
        "# 5️⃣ Confusion Matrix\n",
        "cm = confusion_matrix(y_true, y_pred)\n",
        "disp = ConfusionMatrixDisplay(confusion_matrix=cm, display_labels=class_names)\n",
        "disp.plot(xticks_rotation=45, cmap='Blues')\n",
        "plt.title(\"Confusion Matrix – ResNet50\")\n",
        "plt.tight_layout()\n",
        "plt.show()"
      ],
      "metadata": {
        "colab": {
          "base_uri": "https://localhost:8080/",
          "height": 837
        },
        "id": "Cefynl0QqDbD",
        "outputId": "9f9be2b7-29f8-4fb5-bdff-04ef15020f7b"
      },
      "execution_count": 20,
      "outputs": [
        {
          "output_type": "stream",
          "name": "stderr",
          "text": [
            "WARNING:absl:Compiled the loaded model, but the compiled metrics have yet to be built. `model.compile_metrics` will be empty until you train or evaluate the model.\n"
          ]
        },
        {
          "output_type": "stream",
          "name": "stdout",
          "text": [
            "Validation Loss : 0.6828\n",
            "Validation Accuracy : 0.5722\n",
            "Classification Report:\n",
            "              precision    recall  f1-score   support\n",
            "\n",
            "       train       0.57      1.00      0.73       900\n",
            "         val       0.00      0.00      0.00       673\n",
            "\n",
            "    accuracy                           0.57      1573\n",
            "   macro avg       0.29      0.50      0.36      1573\n",
            "weighted avg       0.33      0.57      0.42      1573\n",
            "\n"
          ]
        },
        {
          "output_type": "stream",
          "name": "stderr",
          "text": [
            "/usr/local/lib/python3.11/dist-packages/sklearn/metrics/_classification.py:1565: UndefinedMetricWarning: Precision is ill-defined and being set to 0.0 in labels with no predicted samples. Use `zero_division` parameter to control this behavior.\n",
            "  _warn_prf(average, modifier, f\"{metric.capitalize()} is\", len(result))\n",
            "/usr/local/lib/python3.11/dist-packages/sklearn/metrics/_classification.py:1565: UndefinedMetricWarning: Precision is ill-defined and being set to 0.0 in labels with no predicted samples. Use `zero_division` parameter to control this behavior.\n",
            "  _warn_prf(average, modifier, f\"{metric.capitalize()} is\", len(result))\n",
            "/usr/local/lib/python3.11/dist-packages/sklearn/metrics/_classification.py:1565: UndefinedMetricWarning: Precision is ill-defined and being set to 0.0 in labels with no predicted samples. Use `zero_division` parameter to control this behavior.\n",
            "  _warn_prf(average, modifier, f\"{metric.capitalize()} is\", len(result))\n"
          ]
        },
        {
          "output_type": "display_data",
          "data": {
            "text/plain": [
              "<Figure size 640x480 with 2 Axes>"
            ],
            "image/png": "[encoded data removed]"
          },
          "metadata": {}
        }
      ]
    }
  ],
  "metadata": {
    "kernelspec": {
      "display_name": "Python 3",
      "language": "python",
      "name": "python3"
    },
    "language_info": {
      "name": "python"
    },
    "colab": {
      "provenance": [],
      "include_colab_link": true
    }
  },
  "nbformat": 4,
  "nbformat_minor": 0
}